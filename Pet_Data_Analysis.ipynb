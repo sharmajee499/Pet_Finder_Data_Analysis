{
 "cells": [
  {
   "cell_type": "markdown",
   "metadata": {},
   "source": [
    "### INTRODUCTION"
   ]
  },
  {
   "cell_type": "markdown",
   "metadata": {},
   "source": [
    "I love pets, who doesn't. Maybe everyone doesn't like dog but they might love\n",
    "another animal. Research has shown that having pet decreses the anexity, \n",
    "depression and bring happiness and joyness to the people. \n",
    "\n",
    "In this project, I will analyze the data from one of the largest internet-based\n",
    "pet company called [PetFinder](https://www.petfinder.com/). From the [Wikipedia]\n",
    "(https://en.wikipedia.org/wiki/Petfinder),*\"The company reports that it \n",
    "currently lists more than 315,000 adoptable pets from nearly 14,000 animal \n",
    "shelters and rescue groups. A commercial enterprise founded in 1996, it is now \n",
    "owned by Nestlé Purina PetCare Company and reports that it has facilitated more \n",
    "than 22 million pet adoptions as of 2013. Most of the pets listed on Petfinder \n",
    "are dogs and cats, but they list all types of animals available from shelters \n",
    "and rescue groups, from small fish, reptiles and birds to horses and livestock.\"*"
   ]
  },
  {
   "cell_type": "markdown",
   "metadata": {},
   "source": [
    "### DATA ACQUISITION"
   ]
  },
  {
   "cell_type": "markdown",
   "metadata": {},
   "source": [
    "Here, we will import the petfinder website or database data using the api. The api documentation can be found via this [link](https://www.petfinder.com/developers/v2/docs/). Fortunately, to ease the work with the api, someone have already built the python wrapper for the api whose details can be found at this [link](https://github.com/aschleg/petpy). Therefore, we will be using the wrapper to extract the information. We will be using the a python wrapper for the [Petfinder](https://www.petfinder.com/) website. I have also found a interesting blog that describes how to work with the wrapper and it's explanation which can be find at this [link](https://medium.com/analytics-vidhya/navigating-petfinders-api-using-petpy-wrapper-2cf085c33d75)"
   ]
  },
  {
   "cell_type": "code",
   "execution_count": 4,
   "metadata": {},
   "outputs": [],
   "source": [
    "#Libraries\n",
    "import pandas as pd\n",
    "import numpy as np\n",
    "import petpy\n",
    "\n",
    "#API key (This can be accesed after logging into developers page of petfinder)\n",
    "api_key = \"DnAygX5BLJaB4pvU9iPHWZ5o9TpoqnCxmxtsLXqCurKIaxCzde\"\n",
    "secret_key = \"N5yYbGKbDC9ivcrYs8UaVKYLT0L0twgW5Kbsb9EP\"\n",
    "\n",
    "#Initialize the wrapper\n",
    "pf = petpy.Petfinder(key=api_key, secret=secret_key)\n"
   ]
  },
  {
   "cell_type": "markdown",
   "metadata": {},
   "source": [
    "### About the Database and Query Parameter\n",
    "\n",
    "There are a lot of query parameter in the API. I wouldn't be able to explain all of those here. For the detailed information please visit [this](https://www.petfinder.com/developers/v2/docs/) link. However, I will explain some basic parameter that I will be using. These parameter are also for the wrapper.\n",
    "\n",
    "1. 'animal_type': Different types of animals are in the database, however, for this project we will be working on the 'dogs' only. \n",
    "2. 'status': The status referred to the animals that are adaptable or not. As per API this has three values ('adoptable','adopted','found'). We will only look at the 'adopted' data. The reason for this will be described in latter process. \n",
    "3. 'pages': Number of pages to search for\n",
    "4. 'results_per_page': Results per page's max value is 100, so we will use max val"
   ]
  },
  {
   "cell_type": "code",
   "execution_count": 7,
   "metadata": {},
   "outputs": [],
   "source": [
    "#Data-Frame for the extracted data\n",
    "\n",
    "# df_adopted = pf.animals(animal_type= 'dog',\n",
    "#                         status = ['adopted'],\n",
    "#                         return_df = True,\n",
    "#                         pages = 600,\n",
    "#                         results_per_page = 100)"
   ]
  },
  {
   "cell_type": "code",
   "execution_count": 9,
   "metadata": {},
   "outputs": [],
   "source": [
    "#Saving the extracted df to a CSV file as we won't running this process \n",
    "#everytime we run notebook\n",
    "\n",
    "# df_adopted.to_csv(\"df_first_extract.csv\")"
   ]
  },
  {
   "cell_type": "code",
   "execution_count": 87,
   "metadata": {},
   "outputs": [],
   "source": [
    "#Read the same file and pulling it to the enviroment \n",
    "\n",
    "df_raw = pd.read_csv('df_first_extract.csv')"
   ]
  },
  {
   "cell_type": "markdown",
   "metadata": {},
   "source": [
    "### DESCRIPTIVE ANALYTICS"
   ]
  },
  {
   "cell_type": "code",
   "execution_count": 88,
   "metadata": {},
   "outputs": [
    {
     "name": "stdout",
     "output_type": "stream",
     "text": [
      "There are 60000 rows and 51 columns in the df \n",
      "\n",
      "The columns name are ['Unnamed: 0', 'id', 'organization_id', 'url', 'type', 'species', 'age', 'gender', 'size', 'coat', 'tags', 'name', 'description', 'organization_animal_id', 'photos', 'videos', 'status', 'status_changed_at', 'published_at', 'distance', 'breeds.primary', 'breeds.secondary', 'breeds.mixed', 'breeds.unknown', 'colors.primary', 'colors.secondary', 'colors.tertiary', 'attributes.spayed_neutered', 'attributes.house_trained', 'attributes.declawed', 'attributes.special_needs', 'attributes.shots_current', 'environment.children', 'environment.dogs', 'environment.cats', 'primary_photo_cropped.small', 'primary_photo_cropped.medium', 'primary_photo_cropped.large', 'primary_photo_cropped.full', 'contact.email', 'contact.phone', 'contact.address.address1', 'contact.address.address2', 'contact.address.city', 'contact.address.state', 'contact.address.postcode', 'contact.address.country', 'animal_id', 'animal_type', 'organization_id.1', 'primary_photo_cropped'] \n",
      "\n"
     ]
    },
    {
     "data": {
      "text/html": [
       "<div>\n",
       "<style scoped>\n",
       "    .dataframe tbody tr th:only-of-type {\n",
       "        vertical-align: middle;\n",
       "    }\n",
       "\n",
       "    .dataframe tbody tr th {\n",
       "        vertical-align: top;\n",
       "    }\n",
       "\n",
       "    .dataframe thead th {\n",
       "        text-align: right;\n",
       "    }\n",
       "</style>\n",
       "<table border=\"1\" class=\"dataframe\">\n",
       "  <thead>\n",
       "    <tr style=\"text-align: right;\">\n",
       "      <th></th>\n",
       "      <th>Unnamed: 0</th>\n",
       "      <th>id</th>\n",
       "      <th>organization_id</th>\n",
       "      <th>url</th>\n",
       "      <th>type</th>\n",
       "      <th>species</th>\n",
       "      <th>age</th>\n",
       "      <th>gender</th>\n",
       "      <th>size</th>\n",
       "      <th>coat</th>\n",
       "      <th>...</th>\n",
       "      <th>contact.address.address1</th>\n",
       "      <th>contact.address.address2</th>\n",
       "      <th>contact.address.city</th>\n",
       "      <th>contact.address.state</th>\n",
       "      <th>contact.address.postcode</th>\n",
       "      <th>contact.address.country</th>\n",
       "      <th>animal_id</th>\n",
       "      <th>animal_type</th>\n",
       "      <th>organization_id.1</th>\n",
       "      <th>primary_photo_cropped</th>\n",
       "    </tr>\n",
       "  </thead>\n",
       "  <tbody>\n",
       "    <tr>\n",
       "      <th>0</th>\n",
       "      <td>0</td>\n",
       "      <td>54746507</td>\n",
       "      <td>OH1215</td>\n",
       "      <td>https://www.petfinder.com/dog/buzz-54746507/oh...</td>\n",
       "      <td>Dog</td>\n",
       "      <td>Dog</td>\n",
       "      <td>Baby</td>\n",
       "      <td>Male</td>\n",
       "      <td>Small</td>\n",
       "      <td>Medium</td>\n",
       "      <td>...</td>\n",
       "      <td>NaN</td>\n",
       "      <td>NaN</td>\n",
       "      <td>Cincinnati</td>\n",
       "      <td>OH</td>\n",
       "      <td>45252</td>\n",
       "      <td>US</td>\n",
       "      <td>54746507</td>\n",
       "      <td>dog</td>\n",
       "      <td>oh1215</td>\n",
       "      <td>NaN</td>\n",
       "    </tr>\n",
       "    <tr>\n",
       "      <th>1</th>\n",
       "      <td>1</td>\n",
       "      <td>54746483</td>\n",
       "      <td>NH74</td>\n",
       "      <td>https://www.petfinder.com/dog/kane-54746483/nh...</td>\n",
       "      <td>Dog</td>\n",
       "      <td>Dog</td>\n",
       "      <td>Young</td>\n",
       "      <td>Male</td>\n",
       "      <td>Large</td>\n",
       "      <td>NaN</td>\n",
       "      <td>...</td>\n",
       "      <td>PO Box 107</td>\n",
       "      <td>NaN</td>\n",
       "      <td>Hillsboro</td>\n",
       "      <td>NH</td>\n",
       "      <td>03244</td>\n",
       "      <td>US</td>\n",
       "      <td>54746483</td>\n",
       "      <td>dog</td>\n",
       "      <td>nh74</td>\n",
       "      <td>NaN</td>\n",
       "    </tr>\n",
       "    <tr>\n",
       "      <th>2</th>\n",
       "      <td>2</td>\n",
       "      <td>54746362</td>\n",
       "      <td>WA650</td>\n",
       "      <td>https://www.petfinder.com/dog/klondike-5474636...</td>\n",
       "      <td>Dog</td>\n",
       "      <td>Dog</td>\n",
       "      <td>Baby</td>\n",
       "      <td>Male</td>\n",
       "      <td>Large</td>\n",
       "      <td>NaN</td>\n",
       "      <td>...</td>\n",
       "      <td>NaN</td>\n",
       "      <td>NaN</td>\n",
       "      <td>Seattle</td>\n",
       "      <td>WA</td>\n",
       "      <td>98165</td>\n",
       "      <td>US</td>\n",
       "      <td>54746362</td>\n",
       "      <td>dog</td>\n",
       "      <td>wa650</td>\n",
       "      <td>NaN</td>\n",
       "    </tr>\n",
       "    <tr>\n",
       "      <th>3</th>\n",
       "      <td>3</td>\n",
       "      <td>54746363</td>\n",
       "      <td>WA650</td>\n",
       "      <td>https://www.petfinder.com/dog/star-little-girl...</td>\n",
       "      <td>Dog</td>\n",
       "      <td>Dog</td>\n",
       "      <td>Adult</td>\n",
       "      <td>Female</td>\n",
       "      <td>Large</td>\n",
       "      <td>NaN</td>\n",
       "      <td>...</td>\n",
       "      <td>NaN</td>\n",
       "      <td>NaN</td>\n",
       "      <td>Seattle</td>\n",
       "      <td>WA</td>\n",
       "      <td>98165</td>\n",
       "      <td>US</td>\n",
       "      <td>54746363</td>\n",
       "      <td>dog</td>\n",
       "      <td>wa650</td>\n",
       "      <td>NaN</td>\n",
       "    </tr>\n",
       "    <tr>\n",
       "      <th>4</th>\n",
       "      <td>4</td>\n",
       "      <td>54746359</td>\n",
       "      <td>KY155</td>\n",
       "      <td>https://www.petfinder.com/dog/rocky-54746359/k...</td>\n",
       "      <td>Dog</td>\n",
       "      <td>Dog</td>\n",
       "      <td>Young</td>\n",
       "      <td>Male</td>\n",
       "      <td>Small</td>\n",
       "      <td>NaN</td>\n",
       "      <td>...</td>\n",
       "      <td>14 Fido Court</td>\n",
       "      <td>NaN</td>\n",
       "      <td>Frankfort</td>\n",
       "      <td>KY</td>\n",
       "      <td>40601</td>\n",
       "      <td>US</td>\n",
       "      <td>54746359</td>\n",
       "      <td>dog</td>\n",
       "      <td>ky155</td>\n",
       "      <td>NaN</td>\n",
       "    </tr>\n",
       "  </tbody>\n",
       "</table>\n",
       "<p>5 rows × 51 columns</p>\n",
       "</div>"
      ],
      "text/plain": [
       "   Unnamed: 0        id organization_id  \\\n",
       "0           0  54746507          OH1215   \n",
       "1           1  54746483            NH74   \n",
       "2           2  54746362           WA650   \n",
       "3           3  54746363           WA650   \n",
       "4           4  54746359           KY155   \n",
       "\n",
       "                                                 url type species    age  \\\n",
       "0  https://www.petfinder.com/dog/buzz-54746507/oh...  Dog     Dog   Baby   \n",
       "1  https://www.petfinder.com/dog/kane-54746483/nh...  Dog     Dog  Young   \n",
       "2  https://www.petfinder.com/dog/klondike-5474636...  Dog     Dog   Baby   \n",
       "3  https://www.petfinder.com/dog/star-little-girl...  Dog     Dog  Adult   \n",
       "4  https://www.petfinder.com/dog/rocky-54746359/k...  Dog     Dog  Young   \n",
       "\n",
       "   gender   size    coat  ... contact.address.address1  \\\n",
       "0    Male  Small  Medium  ...                      NaN   \n",
       "1    Male  Large     NaN  ...               PO Box 107   \n",
       "2    Male  Large     NaN  ...                      NaN   \n",
       "3  Female  Large     NaN  ...                      NaN   \n",
       "4    Male  Small     NaN  ...            14 Fido Court   \n",
       "\n",
       "  contact.address.address2 contact.address.city contact.address.state  \\\n",
       "0                      NaN           Cincinnati                    OH   \n",
       "1                      NaN            Hillsboro                    NH   \n",
       "2                      NaN              Seattle                    WA   \n",
       "3                      NaN              Seattle                    WA   \n",
       "4                      NaN            Frankfort                    KY   \n",
       "\n",
       "  contact.address.postcode contact.address.country animal_id animal_type  \\\n",
       "0                    45252                      US  54746507         dog   \n",
       "1                    03244                      US  54746483         dog   \n",
       "2                    98165                      US  54746362         dog   \n",
       "3                    98165                      US  54746363         dog   \n",
       "4                    40601                      US  54746359         dog   \n",
       "\n",
       "  organization_id.1  primary_photo_cropped  \n",
       "0            oh1215                    NaN  \n",
       "1              nh74                    NaN  \n",
       "2             wa650                    NaN  \n",
       "3             wa650                    NaN  \n",
       "4             ky155                    NaN  \n",
       "\n",
       "[5 rows x 51 columns]"
      ]
     },
     "execution_count": 88,
     "metadata": {},
     "output_type": "execute_result"
    }
   ],
   "source": [
    "print(f'There are {df_raw.shape[0]} rows and {df_raw.shape[1]} columns in the df',\"\\n\")\n",
    "\n",
    "#Name of the Columns\n",
    "print(f'The columns name are {[i for i in df_raw.columns]}', '\\n')\n",
    "\n",
    "#Head of the dataframe\n",
    "df_raw.head()\n"
   ]
  },
  {
   "cell_type": "markdown",
   "metadata": {},
   "source": [
    "#### Removal of the Unnecessary Columns\n",
    "\n",
    "There are various column whose data we won't be needing and we will remove those kinds of columns. They are:\n",
    "\n",
    "['Unnamed: 0','id', 'organization_id', 'url', 'type', 'species', 'organization_animal_id',\n",
    "'photos', 'videos', 'distance', 'primary_photo_cropped.small', 'primary_photo_cropped.medium',\n",
    "'primary_photo_cropped.large', 'primary_photo_cropped.full', 'contact.email',\n",
    "'contact.phone', 'contact.address.address1', 'contact.address.address2', 'contact.address.city',\n",
    "'contact.address.postcode', 'contact.address.country', 'animal_id', 'animal_type', 'organization_id',\n",
    "'organization_id.1', 'primary_photo_cropped']"
   ]
  },
  {
   "cell_type": "code",
   "execution_count": 89,
   "metadata": {},
   "outputs": [],
   "source": [
    "no_need_columns = ['Unnamed: 0','id', 'organization_id', 'url', 'type', \n",
    "                    'species', 'organization_animal_id', 'photos', 'videos', \n",
    "                    'distance', 'primary_photo_cropped.small', \n",
    "                    'primary_photo_cropped.medium','primary_photo_cropped.large',\n",
    "                     'primary_photo_cropped.full', 'contact.email','contact.phone',\n",
    "                      'contact.address.address1', 'contact.address.address2', \n",
    "                      'contact.address.city','contact.address.postcode', \n",
    "                      'contact.address.country', 'animal_id', 'animal_type', \n",
    "                      'organization_id','organization_id.1', 'primary_photo_cropped']\n",
    "\n",
    "#Making new data-frame by dropping those un-necessary columns\n",
    "df_raw.drop(no_need_columns, axis=1, inplace=True)"
   ]
  },
  {
   "cell_type": "markdown",
   "metadata": {},
   "source": [
    "#### Missing Value"
   ]
  },
  {
   "cell_type": "code",
   "execution_count": 90,
   "metadata": {},
   "outputs": [
    {
     "name": "stdout",
     "output_type": "stream",
     "text": [
      "age                               0\n",
      "gender                            0\n",
      "size                              0\n",
      "coat                          26944\n",
      "tags                              0\n",
      "name                              0\n",
      "description                    4313\n",
      "status                            0\n",
      "status_changed_at                 0\n",
      "published_at                      0\n",
      "breeds.primary                    0\n",
      "breeds.secondary              38658\n",
      "breeds.mixed                      0\n",
      "breeds.unknown                    0\n",
      "colors.primary                22243\n",
      "colors.secondary              40589\n",
      "colors.tertiary               56863\n",
      "attributes.spayed_neutered        0\n",
      "attributes.house_trained          0\n",
      "attributes.declawed           60000\n",
      "attributes.special_needs          0\n",
      "attributes.shots_current          0\n",
      "environment.children          26632\n",
      "environment.dogs              17238\n",
      "environment.cats              39507\n",
      "contact.address.state             0\n",
      "dtype: int64\n"
     ]
    },
    {
     "data": {
      "text/plain": [
       "<AxesSubplot:>"
      ]
     },
     "execution_count": 90,
     "metadata": {},
     "output_type": "execute_result"
    },
    {
     "data": {
      "image/png": "[encoded data removed]",
      "text/plain": [
       "<Figure size 432x288 with 1 Axes>"
      ]
     },
     "metadata": {
      "needs_background": "light"
     },
     "output_type": "display_data"
    }
   ],
   "source": [
    "#Null/Missing Values\n",
    "print(df_raw.isnull().sum())\n",
    "\n",
    "#Missing Value Visualization\n",
    "import seaborn as sns\n",
    "sns.heatmap(df_raw.isnull(), cbar=False)"
   ]
  },
  {
   "cell_type": "code",
   "execution_count": 91,
   "metadata": {},
   "outputs": [],
   "source": [
    "#FIRST ROUND REMOVAL OF MISSING VALUE\n",
    "#We will remove those whole columns which have almost everything missing ot those columns who we think might not be useful. \n",
    "\n",
    "first_round_col = ['attributes.declawed','colors.secondary', 'colors.tertiary','breeds.secondary']\n",
    "\n",
    "df_raw.drop(first_round_col, axis=1, inplace=True)"
   ]
  },
  {
   "cell_type": "code",
   "execution_count": 92,
   "metadata": {},
   "outputs": [
    {
     "name": "stdout",
     "output_type": "stream",
     "text": [
      "(50022, 22)\n"
     ]
    }
   ],
   "source": [
    "#The another approach is to try to find the instances where there are no missing values. \n",
    "\n",
    "#Finding how many columns have at least 1 missing value for each row\n",
    "print(df_raw[df_raw.isnull().any(axis=1)].shape)\n",
    "\n",
    "#Since, there are almost 50,000 data points out of 60,000 where there are at \n",
    "# least one missing value we can't use just the overlapped data. \n"
   ]
  },
  {
   "cell_type": "code",
   "execution_count": null,
   "metadata": {},
   "outputs": [],
   "source": []
  },
  {
   "cell_type": "code",
   "execution_count": 93,
   "metadata": {},
   "outputs": [
    {
     "name": "stdout",
     "output_type": "stream",
     "text": [
      "age                               0\n",
      "gender                            0\n",
      "size                              0\n",
      "coat                          26944\n",
      "tags                              0\n",
      "name                              0\n",
      "description                    4313\n",
      "status                            0\n",
      "status_changed_at                 0\n",
      "published_at                      0\n",
      "breeds.primary                    0\n",
      "breeds.mixed                      0\n",
      "breeds.unknown                    0\n",
      "colors.primary                22243\n",
      "attributes.spayed_neutered        0\n",
      "attributes.house_trained          0\n",
      "attributes.special_needs          0\n",
      "attributes.shots_current          0\n",
      "environment.children          26632\n",
      "environment.dogs              17238\n",
      "environment.cats              39507\n",
      "contact.address.state             0\n",
      "dtype: int64\n"
     ]
    }
   ],
   "source": [
    "print(df_raw.isnull().sum())"
   ]
  },
  {
   "cell_type": "code",
   "execution_count": 74,
   "metadata": {},
   "outputs": [
    {
     "data": {
      "text/plain": [
       "{'Apricot / Beige',\n",
       " 'Bicolor',\n",
       " 'Black',\n",
       " 'Brindle',\n",
       " 'Brown / Chocolate',\n",
       " 'Golden',\n",
       " 'Gray / Blue / Silver',\n",
       " 'Harlequin',\n",
       " 'Merle (Blue)',\n",
       " 'Merle (Red)',\n",
       " 'Red / Chestnut / Orange',\n",
       " 'Sable',\n",
       " 'Tricolor (Brown, Black, & White)',\n",
       " 'White / Cream',\n",
       " 'Yellow / Tan / Blond / Fawn',\n",
       " nan}"
      ]
     },
     "execution_count": 74,
     "metadata": {},
     "output_type": "execute_result"
    }
   ],
   "source": [
    "set(df_raw['colors.primary'])"
   ]
  },
  {
   "cell_type": "code",
   "execution_count": 75,
   "metadata": {},
   "outputs": [
    {
     "data": {
      "text/plain": [
       "Index(['coat', 'description', 'breeds.secondary', 'colors.primary',\n",
       "       'environment.children', 'environment.dogs', 'environment.cats'],\n",
       "      dtype='object')"
      ]
     },
     "execution_count": 75,
     "metadata": {},
     "output_type": "execute_result"
    }
   ],
   "source": [
    "null_columns = df_raw.columns[df_raw.isnull().any()]\n",
    "null_columns"
   ]
  },
  {
   "cell_type": "code",
   "execution_count": 76,
   "metadata": {},
   "outputs": [
    {
     "data": {
      "text/html": [
       "<div>\n",
       "<style scoped>\n",
       "    .dataframe tbody tr th:only-of-type {\n",
       "        vertical-align: middle;\n",
       "    }\n",
       "\n",
       "    .dataframe tbody tr th {\n",
       "        vertical-align: top;\n",
       "    }\n",
       "\n",
       "    .dataframe thead th {\n",
       "        text-align: right;\n",
       "    }\n",
       "</style>\n",
       "<table border=\"1\" class=\"dataframe\">\n",
       "  <thead>\n",
       "    <tr style=\"text-align: right;\">\n",
       "      <th></th>\n",
       "      <th>coat</th>\n",
       "      <th>description</th>\n",
       "      <th>breeds.secondary</th>\n",
       "      <th>colors.primary</th>\n",
       "      <th>environment.children</th>\n",
       "      <th>environment.dogs</th>\n",
       "      <th>environment.cats</th>\n",
       "    </tr>\n",
       "  </thead>\n",
       "  <tbody>\n",
       "    <tr>\n",
       "      <th>0</th>\n",
       "      <td>Medium</td>\n",
       "      <td>Buzz is adopted. Brother to Kevin\\n\\nAll of th...</td>\n",
       "      <td>Chihuahua</td>\n",
       "      <td>Tricolor (Brown, Black, &amp; White)</td>\n",
       "      <td>True</td>\n",
       "      <td>True</td>\n",
       "      <td>NaN</td>\n",
       "    </tr>\n",
       "    <tr>\n",
       "      <th>1</th>\n",
       "      <td>NaN</td>\n",
       "      <td>You can fill out an adoption application onlin...</td>\n",
       "      <td>NaN</td>\n",
       "      <td>NaN</td>\n",
       "      <td>NaN</td>\n",
       "      <td>NaN</td>\n",
       "      <td>NaN</td>\n",
       "    </tr>\n",
       "    <tr>\n",
       "      <th>2</th>\n",
       "      <td>NaN</td>\n",
       "      <td>Animal Profile: Klondike is an estimated 14-we...</td>\n",
       "      <td>NaN</td>\n",
       "      <td>NaN</td>\n",
       "      <td>True</td>\n",
       "      <td>True</td>\n",
       "      <td>True</td>\n",
       "    </tr>\n",
       "    <tr>\n",
       "      <th>3</th>\n",
       "      <td>NaN</td>\n",
       "      <td>Animal Profile: Little Girl is an estimated 2-...</td>\n",
       "      <td>NaN</td>\n",
       "      <td>NaN</td>\n",
       "      <td>NaN</td>\n",
       "      <td>True</td>\n",
       "      <td>NaN</td>\n",
       "    </tr>\n",
       "    <tr>\n",
       "      <th>4</th>\n",
       "      <td>NaN</td>\n",
       "      <td>He has had all his shots, heartworm, and flea ...</td>\n",
       "      <td>Mixed Breed</td>\n",
       "      <td>Bicolor</td>\n",
       "      <td>NaN</td>\n",
       "      <td>NaN</td>\n",
       "      <td>NaN</td>\n",
       "    </tr>\n",
       "    <tr>\n",
       "      <th>...</th>\n",
       "      <td>...</td>\n",
       "      <td>...</td>\n",
       "      <td>...</td>\n",
       "      <td>...</td>\n",
       "      <td>...</td>\n",
       "      <td>...</td>\n",
       "      <td>...</td>\n",
       "    </tr>\n",
       "    <tr>\n",
       "      <th>59995</th>\n",
       "      <td>Short</td>\n",
       "      <td>Holiday greetings from Bree. She and her three...</td>\n",
       "      <td>Hound</td>\n",
       "      <td>Tricolor (Brown, Black, &amp; White)</td>\n",
       "      <td>NaN</td>\n",
       "      <td>True</td>\n",
       "      <td>NaN</td>\n",
       "    </tr>\n",
       "    <tr>\n",
       "      <th>59996</th>\n",
       "      <td>NaN</td>\n",
       "      <td>Chipper was born Oct 22 he is fluffy and cuddl...</td>\n",
       "      <td>Australian Shepherd</td>\n",
       "      <td>NaN</td>\n",
       "      <td>True</td>\n",
       "      <td>True</td>\n",
       "      <td>True</td>\n",
       "    </tr>\n",
       "    <tr>\n",
       "      <th>59997</th>\n",
       "      <td>NaN</td>\n",
       "      <td>Woof! I’m Bashful. My owner couldn’t care for ...</td>\n",
       "      <td>Shih Tzu</td>\n",
       "      <td>NaN</td>\n",
       "      <td>True</td>\n",
       "      <td>True</td>\n",
       "      <td>True</td>\n",
       "    </tr>\n",
       "    <tr>\n",
       "      <th>59998</th>\n",
       "      <td>Medium</td>\n",
       "      <td>Cinder is a guessed to be 4 year old. Amish mi...</td>\n",
       "      <td>NaN</td>\n",
       "      <td>Tricolor (Brown, Black, &amp; White)</td>\n",
       "      <td>NaN</td>\n",
       "      <td>NaN</td>\n",
       "      <td>NaN</td>\n",
       "    </tr>\n",
       "    <tr>\n",
       "      <th>59999</th>\n",
       "      <td>NaN</td>\n",
       "      <td>Molly and Wally are AMAZING. Molly the mom is ...</td>\n",
       "      <td>Labrador Retriever</td>\n",
       "      <td>NaN</td>\n",
       "      <td>NaN</td>\n",
       "      <td>True</td>\n",
       "      <td>NaN</td>\n",
       "    </tr>\n",
       "  </tbody>\n",
       "</table>\n",
       "<p>55252 rows × 7 columns</p>\n",
       "</div>"
      ],
      "text/plain": [
       "         coat                                        description  \\\n",
       "0      Medium  Buzz is adopted. Brother to Kevin\\n\\nAll of th...   \n",
       "1         NaN  You can fill out an adoption application onlin...   \n",
       "2         NaN  Animal Profile: Klondike is an estimated 14-we...   \n",
       "3         NaN  Animal Profile: Little Girl is an estimated 2-...   \n",
       "4         NaN  He has had all his shots, heartworm, and flea ...   \n",
       "...       ...                                                ...   \n",
       "59995   Short  Holiday greetings from Bree. She and her three...   \n",
       "59996     NaN  Chipper was born Oct 22 he is fluffy and cuddl...   \n",
       "59997     NaN  Woof! I’m Bashful. My owner couldn’t care for ...   \n",
       "59998  Medium  Cinder is a guessed to be 4 year old. Amish mi...   \n",
       "59999     NaN  Molly and Wally are AMAZING. Molly the mom is ...   \n",
       "\n",
       "          breeds.secondary                    colors.primary  \\\n",
       "0                Chihuahua  Tricolor (Brown, Black, & White)   \n",
       "1                      NaN                               NaN   \n",
       "2                      NaN                               NaN   \n",
       "3                      NaN                               NaN   \n",
       "4              Mixed Breed                           Bicolor   \n",
       "...                    ...                               ...   \n",
       "59995                Hound  Tricolor (Brown, Black, & White)   \n",
       "59996  Australian Shepherd                               NaN   \n",
       "59997             Shih Tzu                               NaN   \n",
       "59998                  NaN  Tricolor (Brown, Black, & White)   \n",
       "59999   Labrador Retriever                               NaN   \n",
       "\n",
       "      environment.children environment.dogs environment.cats  \n",
       "0                     True             True              NaN  \n",
       "1                      NaN              NaN              NaN  \n",
       "2                     True             True             True  \n",
       "3                      NaN             True              NaN  \n",
       "4                      NaN              NaN              NaN  \n",
       "...                    ...              ...              ...  \n",
       "59995                  NaN             True              NaN  \n",
       "59996                 True             True             True  \n",
       "59997                 True             True             True  \n",
       "59998                  NaN              NaN              NaN  \n",
       "59999                  NaN             True              NaN  \n",
       "\n",
       "[55252 rows x 7 columns]"
      ]
     },
     "execution_count": 76,
     "metadata": {},
     "output_type": "execute_result"
    }
   ],
   "source": [
    "df_raw[df_raw.isnull().any(axis=1)][null_columns]\n"
   ]
  },
  {
   "cell_type": "code",
   "execution_count": null,
   "metadata": {},
   "outputs": [],
   "source": []
  }
 ],
 "metadata": {
  "interpreter": {
   "hash": "5f967a4b1965d5d0b7c1f01aea3f2942da8893307070eff97649fe3e4f120080"
  },
  "kernelspec": {
   "display_name": "Python 3.8.12 ('Practice')",
   "language": "python",
   "name": "python3"
  },
  "language_info": {
   "codemirror_mode": {
    "name": "ipython",
    "version": 3
   },
   "file_extension": ".py",
   "mimetype": "text/x-python",
   "name": "python",
   "nbconvert_exporter": "python",
   "pygments_lexer": "ipython3",
   "version": "3.8.12"
  },
  "orig_nbformat": 4
 },
 "nbformat": 4,
 "nbformat_minor": 2
}
